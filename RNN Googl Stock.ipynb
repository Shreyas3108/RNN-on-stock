{
 "cells": [
  {
   "cell_type": "code",
   "execution_count": 63,
   "metadata": {
    "collapsed": true
   },
   "outputs": [],
   "source": [
    "import numpy as np\n",
    "import pandas as pd\n",
    "import matplotlib.pyplot as plt \n",
    "%matplotlib inline"
   ]
  },
  {
   "cell_type": "code",
   "execution_count": 3,
   "metadata": {
    "collapsed": true
   },
   "outputs": [],
   "source": [
    "### Training LSTM for 5 years , Google Stock price , Based upon the paper made by stanford "
   ]
  },
  {
   "cell_type": "code",
   "execution_count": 51,
   "metadata": {
    "collapsed": true
   },
   "outputs": [],
   "source": [
    "train = pd.read_csv('Google_Stock_Price_Train.csv')"
   ]
  },
  {
   "cell_type": "code",
   "execution_count": 52,
   "metadata": {},
   "outputs": [
    {
     "data": {
      "text/html": [
       "<div>\n",
       "<style>\n",
       "    .dataframe thead tr:only-child th {\n",
       "        text-align: right;\n",
       "    }\n",
       "\n",
       "    .dataframe thead th {\n",
       "        text-align: left;\n",
       "    }\n",
       "\n",
       "    .dataframe tbody tr th {\n",
       "        vertical-align: top;\n",
       "    }\n",
       "</style>\n",
       "<table border=\"1\" class=\"dataframe\">\n",
       "  <thead>\n",
       "    <tr style=\"text-align: right;\">\n",
       "      <th></th>\n",
       "      <th>Date</th>\n",
       "      <th>Open</th>\n",
       "      <th>High</th>\n",
       "      <th>Low</th>\n",
       "      <th>Close</th>\n",
       "      <th>Volume</th>\n",
       "    </tr>\n",
       "  </thead>\n",
       "  <tbody>\n",
       "    <tr>\n",
       "      <th>0</th>\n",
       "      <td>1/3/2012</td>\n",
       "      <td>325.25</td>\n",
       "      <td>332.83</td>\n",
       "      <td>324.97</td>\n",
       "      <td>663.59</td>\n",
       "      <td>7,380,500</td>\n",
       "    </tr>\n",
       "    <tr>\n",
       "      <th>1</th>\n",
       "      <td>1/4/2012</td>\n",
       "      <td>331.27</td>\n",
       "      <td>333.87</td>\n",
       "      <td>329.08</td>\n",
       "      <td>666.45</td>\n",
       "      <td>5,749,400</td>\n",
       "    </tr>\n",
       "    <tr>\n",
       "      <th>2</th>\n",
       "      <td>1/5/2012</td>\n",
       "      <td>329.83</td>\n",
       "      <td>330.75</td>\n",
       "      <td>326.89</td>\n",
       "      <td>657.21</td>\n",
       "      <td>6,590,300</td>\n",
       "    </tr>\n",
       "    <tr>\n",
       "      <th>3</th>\n",
       "      <td>1/6/2012</td>\n",
       "      <td>328.34</td>\n",
       "      <td>328.77</td>\n",
       "      <td>323.68</td>\n",
       "      <td>648.24</td>\n",
       "      <td>5,405,900</td>\n",
       "    </tr>\n",
       "    <tr>\n",
       "      <th>4</th>\n",
       "      <td>1/9/2012</td>\n",
       "      <td>322.04</td>\n",
       "      <td>322.29</td>\n",
       "      <td>309.46</td>\n",
       "      <td>620.76</td>\n",
       "      <td>11,688,800</td>\n",
       "    </tr>\n",
       "  </tbody>\n",
       "</table>\n",
       "</div>"
      ],
      "text/plain": [
       "       Date    Open    High     Low   Close      Volume\n",
       "0  1/3/2012  325.25  332.83  324.97  663.59   7,380,500\n",
       "1  1/4/2012  331.27  333.87  329.08  666.45   5,749,400\n",
       "2  1/5/2012  329.83  330.75  326.89  657.21   6,590,300\n",
       "3  1/6/2012  328.34  328.77  323.68  648.24   5,405,900\n",
       "4  1/9/2012  322.04  322.29  309.46  620.76  11,688,800"
      ]
     },
     "execution_count": 52,
     "metadata": {},
     "output_type": "execute_result"
    }
   ],
   "source": [
    "train.head()"
   ]
  },
  {
   "cell_type": "code",
   "execution_count": 53,
   "metadata": {
    "collapsed": true
   },
   "outputs": [],
   "source": [
    "### Open price is label. "
   ]
  },
  {
   "cell_type": "code",
   "execution_count": 54,
   "metadata": {
    "collapsed": true
   },
   "outputs": [],
   "source": [
    "### to make label into a 2d numpy array\n",
    "label = train.iloc[:,1:2]"
   ]
  },
  {
   "cell_type": "code",
   "execution_count": 55,
   "metadata": {},
   "outputs": [
    {
     "data": {
      "text/html": [
       "<div>\n",
       "<style>\n",
       "    .dataframe thead tr:only-child th {\n",
       "        text-align: right;\n",
       "    }\n",
       "\n",
       "    .dataframe thead th {\n",
       "        text-align: left;\n",
       "    }\n",
       "\n",
       "    .dataframe tbody tr th {\n",
       "        vertical-align: top;\n",
       "    }\n",
       "</style>\n",
       "<table border=\"1\" class=\"dataframe\">\n",
       "  <thead>\n",
       "    <tr style=\"text-align: right;\">\n",
       "      <th></th>\n",
       "      <th>Open</th>\n",
       "    </tr>\n",
       "  </thead>\n",
       "  <tbody>\n",
       "    <tr>\n",
       "      <th>0</th>\n",
       "      <td>325.25</td>\n",
       "    </tr>\n",
       "    <tr>\n",
       "      <th>1</th>\n",
       "      <td>331.27</td>\n",
       "    </tr>\n",
       "    <tr>\n",
       "      <th>2</th>\n",
       "      <td>329.83</td>\n",
       "    </tr>\n",
       "    <tr>\n",
       "      <th>3</th>\n",
       "      <td>328.34</td>\n",
       "    </tr>\n",
       "    <tr>\n",
       "      <th>4</th>\n",
       "      <td>322.04</td>\n",
       "    </tr>\n",
       "  </tbody>\n",
       "</table>\n",
       "</div>"
      ],
      "text/plain": [
       "     Open\n",
       "0  325.25\n",
       "1  331.27\n",
       "2  329.83\n",
       "3  328.34\n",
       "4  322.04"
      ]
     },
     "execution_count": 55,
     "metadata": {},
     "output_type": "execute_result"
    }
   ],
   "source": [
    "label.head()"
   ]
  },
  {
   "cell_type": "code",
   "execution_count": 15,
   "metadata": {
    "collapsed": true
   },
   "outputs": [],
   "source": [
    "### Feature Scaling , Using Normalization for a better result\n",
    "from sklearn.preprocessing import MinMaxScaler"
   ]
  },
  {
   "cell_type": "code",
   "execution_count": 16,
   "metadata": {
    "collapsed": true
   },
   "outputs": [],
   "source": [
    "sc = MinMaxScaler()"
   ]
  },
  {
   "cell_type": "code",
   "execution_count": 18,
   "metadata": {
    "collapsed": true
   },
   "outputs": [],
   "source": [
    "train = sc.fit_transform(label)"
   ]
  },
  {
   "cell_type": "code",
   "execution_count": 22,
   "metadata": {},
   "outputs": [
    {
     "data": {
      "text/plain": [
       "array([[ 0.08581368],\n",
       "       [ 0.09701243],\n",
       "       [ 0.09433366],\n",
       "       ..., \n",
       "       [ 0.95725128],\n",
       "       [ 0.93796041],\n",
       "       [ 0.93688146]])"
      ]
     },
     "execution_count": 22,
     "metadata": {},
     "output_type": "execute_result"
    }
   ],
   "source": [
    "## all in 0's and 1's for RNN \n",
    "train"
   ]
  },
  {
   "cell_type": "code",
   "execution_count": 24,
   "metadata": {
    "collapsed": true
   },
   "outputs": [],
   "source": [
    "## for an lstm network t would be the train and validation shall be t+1 \n",
    "x_train = train[0:1257]"
   ]
  },
  {
   "cell_type": "code",
   "execution_count": 25,
   "metadata": {
    "collapsed": true
   },
   "outputs": [],
   "source": [
    "y_train = train[1:1258]"
   ]
  },
  {
   "cell_type": "code",
   "execution_count": 26,
   "metadata": {},
   "outputs": [
    {
     "data": {
      "text/plain": [
       "array([[ 0.08581368],\n",
       "       [ 0.09701243],\n",
       "       [ 0.09433366],\n",
       "       ..., \n",
       "       [ 0.95163331],\n",
       "       [ 0.95725128],\n",
       "       [ 0.93796041]])"
      ]
     },
     "execution_count": 26,
     "metadata": {},
     "output_type": "execute_result"
    }
   ],
   "source": [
    "x_train"
   ]
  },
  {
   "cell_type": "code",
   "execution_count": 27,
   "metadata": {},
   "outputs": [
    {
     "data": {
      "text/plain": [
       "array([[ 0.09701243],\n",
       "       [ 0.09433366],\n",
       "       [ 0.09156187],\n",
       "       ..., \n",
       "       [ 0.95725128],\n",
       "       [ 0.93796041],\n",
       "       [ 0.93688146]])"
      ]
     },
     "execution_count": 27,
     "metadata": {},
     "output_type": "execute_result"
    }
   ],
   "source": [
    "y_train"
   ]
  },
  {
   "cell_type": "markdown",
   "metadata": {},
   "source": [
    "The second price in x_train can be seen as the first price at y_Train"
   ]
  },
  {
   "cell_type": "code",
   "execution_count": 28,
   "metadata": {
    "collapsed": true
   },
   "outputs": [],
   "source": [
    "## for keras converting to 3d\n",
    "x_train = np.reshape(x_train,(1257,1,1))"
   ]
  },
  {
   "cell_type": "code",
   "execution_count": 29,
   "metadata": {},
   "outputs": [
    {
     "data": {
      "text/plain": [
       "array([[[ 0.08581368]],\n",
       "\n",
       "       [[ 0.09701243]],\n",
       "\n",
       "       [[ 0.09433366]],\n",
       "\n",
       "       ..., \n",
       "       [[ 0.95163331]],\n",
       "\n",
       "       [[ 0.95725128]],\n",
       "\n",
       "       [[ 0.93796041]]])"
      ]
     },
     "execution_count": 29,
     "metadata": {},
     "output_type": "execute_result"
    }
   ],
   "source": [
    "x_train"
   ]
  },
  {
   "cell_type": "markdown",
   "metadata": {},
   "source": [
    "Converted to 3d array"
   ]
  },
  {
   "cell_type": "code",
   "execution_count": 31,
   "metadata": {
    "collapsed": true
   },
   "outputs": [],
   "source": [
    "import os\n",
    "os.environ['TF_CPP_MIN_LOG_LEVEL']='2'\n",
    "import tensorflow as tf\n",
    "from keras.layers import Dense,LSTM\n",
    "from keras.models import Sequential"
   ]
  },
  {
   "cell_type": "code",
   "execution_count": 35,
   "metadata": {
    "collapsed": true
   },
   "outputs": [],
   "source": [
    "reg = Sequential()"
   ]
  },
  {
   "cell_type": "code",
   "execution_count": 36,
   "metadata": {
    "collapsed": true
   },
   "outputs": [],
   "source": [
    "## Input layer\n",
    "reg.add(LSTM(units =4,activation = 'sigmoid',input_shape = (None , 1)))"
   ]
  },
  {
   "cell_type": "code",
   "execution_count": 37,
   "metadata": {
    "collapsed": true
   },
   "outputs": [],
   "source": [
    "## Output layer\n",
    "reg.add(Dense(units = 1,kernel_initializer='uniform'))"
   ]
  },
  {
   "cell_type": "code",
   "execution_count": 38,
   "metadata": {
    "collapsed": true
   },
   "outputs": [],
   "source": [
    "#compiling the rnn \n",
    "reg.compile(optimizer = 'adam',loss = 'mean_squared_error')"
   ]
  },
  {
   "cell_type": "code",
   "execution_count": 41,
   "metadata": {},
   "outputs": [
    {
     "name": "stdout",
     "output_type": "stream",
     "text": [
      "Epoch 1/200\n",
      "1257/1257 [==============================] - 0s - loss: 2.5001e-04     \n",
      "Epoch 2/200\n",
      "1257/1257 [==============================] - 0s - loss: 2.4804e-04     \n",
      "Epoch 3/200\n",
      "1257/1257 [==============================] - 0s - loss: 2.4891e-04     \n",
      "Epoch 4/200\n",
      "1257/1257 [==============================] - 0s - loss: 2.4807e-04     \n",
      "Epoch 5/200\n",
      "1257/1257 [==============================] - 0s - loss: 2.5060e-04     \n",
      "Epoch 6/200\n",
      "1257/1257 [==============================] - 0s - loss: 2.4779e-04     \n",
      "Epoch 7/200\n",
      "1257/1257 [==============================] - 0s - loss: 2.4760e-04     \n",
      "Epoch 8/200\n",
      "1257/1257 [==============================] - 0s - loss: 2.5495e-04     \n",
      "Epoch 9/200\n",
      "1257/1257 [==============================] - 0s - loss: 2.4964e-04     \n",
      "Epoch 10/200\n",
      "1257/1257 [==============================] - 0s - loss: 2.5233e-04     \n",
      "Epoch 11/200\n",
      "1257/1257 [==============================] - 0s - loss: 2.5204e-04     \n",
      "Epoch 12/200\n",
      "1257/1257 [==============================] - 0s - loss: 2.5268e-04     \n",
      "Epoch 13/200\n",
      "1257/1257 [==============================] - 0s - loss: 2.5527e-04     \n",
      "Epoch 14/200\n",
      "1257/1257 [==============================] - 0s - loss: 2.5334e-04     \n",
      "Epoch 15/200\n",
      "1257/1257 [==============================] - 0s - loss: 2.4756e-04     \n",
      "Epoch 16/200\n",
      "1257/1257 [==============================] - 0s - loss: 2.5012e-04     \n",
      "Epoch 17/200\n",
      "1257/1257 [==============================] - 0s - loss: 2.5019e-04     \n",
      "Epoch 18/200\n",
      "1257/1257 [==============================] - 0s - loss: 2.5106e-04     \n",
      "Epoch 19/200\n",
      "1257/1257 [==============================] - 0s - loss: 2.4983e-04     \n",
      "Epoch 20/200\n",
      "1257/1257 [==============================] - 0s - loss: 2.5449e-04     \n",
      "Epoch 21/200\n",
      "1257/1257 [==============================] - 0s - loss: 2.5175e-04     \n",
      "Epoch 22/200\n",
      "1257/1257 [==============================] - 0s - loss: 2.4787e-04     \n",
      "Epoch 23/200\n",
      "1257/1257 [==============================] - 0s - loss: 2.4837e-04     \n",
      "Epoch 24/200\n",
      "1257/1257 [==============================] - 0s - loss: 2.5214e-04     \n",
      "Epoch 25/200\n",
      "1257/1257 [==============================] - 0s - loss: 2.5061e-04     \n",
      "Epoch 26/200\n",
      "1257/1257 [==============================] - 0s - loss: 2.5195e-04     \n",
      "Epoch 27/200\n",
      "1257/1257 [==============================] - 0s - loss: 2.4782e-04     \n",
      "Epoch 28/200\n",
      "1257/1257 [==============================] - ETA: 0s - loss: 2.4895e-0 - 0s - loss: 2.4794e-04     \n",
      "Epoch 29/200\n",
      "1257/1257 [==============================] - 0s - loss: 2.4778e-04     \n",
      "Epoch 30/200\n",
      "1257/1257 [==============================] - 0s - loss: 2.4985e-04     \n",
      "Epoch 31/200\n",
      "1257/1257 [==============================] - 0s - loss: 2.4827e-04     \n",
      "Epoch 32/200\n",
      "1257/1257 [==============================] - 0s - loss: 2.4758e-04     \n",
      "Epoch 33/200\n",
      "1257/1257 [==============================] - 0s - loss: 2.4801e-04     \n",
      "Epoch 34/200\n",
      "1257/1257 [==============================] - 0s - loss: 2.4851e-04     \n",
      "Epoch 35/200\n",
      "1257/1257 [==============================] - 0s - loss: 2.4709e-04     \n",
      "Epoch 36/200\n",
      "1257/1257 [==============================] - 0s - loss: 2.5470e-04     \n",
      "Epoch 37/200\n",
      "1257/1257 [==============================] - 0s - loss: 2.5516e-04     \n",
      "Epoch 38/200\n",
      "1257/1257 [==============================] - 0s - loss: 2.4752e-04     \n",
      "Epoch 39/200\n",
      "1257/1257 [==============================] - 0s - loss: 2.5179e-04     \n",
      "Epoch 40/200\n",
      "1257/1257 [==============================] - 0s - loss: 2.4892e-04     \n",
      "Epoch 41/200\n",
      "1257/1257 [==============================] - 0s - loss: 2.4957e-04     \n",
      "Epoch 42/200\n",
      "1257/1257 [==============================] - 0s - loss: 2.4892e-04     \n",
      "Epoch 43/200\n",
      "1257/1257 [==============================] - 0s - loss: 2.5463e-04     \n",
      "Epoch 44/200\n",
      "1257/1257 [==============================] - 0s - loss: 2.4639e-04     \n",
      "Epoch 45/200\n",
      "1257/1257 [==============================] - 0s - loss: 2.4971e-04     \n",
      "Epoch 46/200\n",
      "1257/1257 [==============================] - 0s - loss: 2.5004e-04     \n",
      "Epoch 47/200\n",
      "1257/1257 [==============================] - 0s - loss: 2.4778e-04     \n",
      "Epoch 48/200\n",
      "1257/1257 [==============================] - 0s - loss: 2.4875e-04     \n",
      "Epoch 49/200\n",
      "1257/1257 [==============================] - 0s - loss: 2.4853e-04     \n",
      "Epoch 50/200\n",
      "1257/1257 [==============================] - 0s - loss: 2.5045e-04     \n",
      "Epoch 51/200\n",
      "1257/1257 [==============================] - 0s - loss: 2.5053e-04     \n",
      "Epoch 52/200\n",
      "1257/1257 [==============================] - 0s - loss: 2.4744e-04     \n",
      "Epoch 53/200\n",
      "1257/1257 [==============================] - 0s - loss: 2.4988e-04     \n",
      "Epoch 54/200\n",
      "1257/1257 [==============================] - 0s - loss: 2.4786e-04     \n",
      "Epoch 55/200\n",
      "1257/1257 [==============================] - 0s - loss: 2.4766e-04     \n",
      "Epoch 56/200\n",
      "1257/1257 [==============================] - 0s - loss: 2.4980e-04     \n",
      "Epoch 57/200\n",
      "1257/1257 [==============================] - 0s - loss: 2.4997e-04     \n",
      "Epoch 58/200\n",
      "1257/1257 [==============================] - 0s - loss: 2.4986e-04     \n",
      "Epoch 59/200\n",
      "1257/1257 [==============================] - 0s - loss: 2.4588e-04     \n",
      "Epoch 60/200\n",
      "1257/1257 [==============================] - 0s - loss: 2.5105e-04     \n",
      "Epoch 61/200\n",
      "1257/1257 [==============================] - 0s - loss: 2.5154e-04     \n",
      "Epoch 62/200\n",
      "1257/1257 [==============================] - 0s - loss: 2.5087e-04     \n",
      "Epoch 63/200\n",
      "1257/1257 [==============================] - 0s - loss: 2.4989e-04     \n",
      "Epoch 64/200\n",
      "1257/1257 [==============================] - 0s - loss: 2.4787e-04     \n",
      "Epoch 65/200\n",
      "1257/1257 [==============================] - 0s - loss: 2.5255e-04     \n",
      "Epoch 66/200\n",
      "1257/1257 [==============================] - 0s - loss: 2.5096e-04     \n",
      "Epoch 67/200\n",
      "1257/1257 [==============================] - 0s - loss: 2.5089e-04     \n",
      "Epoch 68/200\n",
      "1257/1257 [==============================] - 0s - loss: 2.5349e-04     \n",
      "Epoch 69/200\n",
      "1257/1257 [==============================] - 0s - loss: 2.4716e-04     \n",
      "Epoch 70/200\n",
      "1257/1257 [==============================] - 0s - loss: 2.4972e-04     \n",
      "Epoch 71/200\n",
      "1257/1257 [==============================] - 0s - loss: 2.4712e-04     \n",
      "Epoch 72/200\n",
      "1257/1257 [==============================] - 0s - loss: 2.4885e-04     \n",
      "Epoch 73/200\n",
      "1257/1257 [==============================] - 0s - loss: 2.4696e-04     \n",
      "Epoch 74/200\n",
      "1257/1257 [==============================] - 0s - loss: 2.5552e-04     \n",
      "Epoch 75/200\n",
      "1257/1257 [==============================] - 0s - loss: 2.4671e-04     \n",
      "Epoch 76/200\n",
      "1257/1257 [==============================] - 0s - loss: 2.5076e-04     \n",
      "Epoch 77/200\n",
      "1257/1257 [==============================] - 0s - loss: 2.4599e-04     \n",
      "Epoch 78/200\n",
      "1257/1257 [==============================] - 0s - loss: 2.5116e-04     \n",
      "Epoch 79/200\n",
      "1257/1257 [==============================] - 0s - loss: 2.5325e-04     \n",
      "Epoch 80/200\n",
      "1257/1257 [==============================] - 0s - loss: 2.4904e-04     \n",
      "Epoch 81/200\n",
      "1257/1257 [==============================] - 0s - loss: 2.4818e-04     \n",
      "Epoch 82/200\n",
      "1257/1257 [==============================] - 0s - loss: 2.5025e-04     \n",
      "Epoch 83/200\n",
      "1257/1257 [==============================] - 0s - loss: 2.4964e-04     - ETA: 0s - loss: 2.3370e-0\n",
      "Epoch 84/200\n",
      "1257/1257 [==============================] - 0s - loss: 2.4976e-04     \n",
      "Epoch 85/200\n",
      "1257/1257 [==============================] - 0s - loss: 2.5294e-04     \n",
      "Epoch 86/200\n",
      "1257/1257 [==============================] - 0s - loss: 2.5125e-04     \n",
      "Epoch 87/200\n",
      "1257/1257 [==============================] - 0s - loss: 2.5554e-04     \n",
      "Epoch 88/200\n",
      "1257/1257 [==============================] - 0s - loss: 2.5087e-04     \n",
      "Epoch 89/200\n",
      "1257/1257 [==============================] - 0s - loss: 2.5959e-04     \n",
      "Epoch 90/200\n",
      "1257/1257 [==============================] - 0s - loss: 2.4650e-04     \n",
      "Epoch 91/200\n",
      "1257/1257 [==============================] - 0s - loss: 2.4941e-04     \n",
      "Epoch 92/200\n",
      "1257/1257 [==============================] - 0s - loss: 2.4657e-04     \n",
      "Epoch 93/200\n",
      "1257/1257 [==============================] - 0s - loss: 2.4902e-04     \n",
      "Epoch 94/200\n",
      "1257/1257 [==============================] - 0s - loss: 2.4647e-04     \n",
      "Epoch 95/200\n",
      "1257/1257 [==============================] - 0s - loss: 2.6234e-04     \n",
      "Epoch 96/200\n",
      "1257/1257 [==============================] - 0s - loss: 2.5088e-04     \n",
      "Epoch 97/200\n",
      "1257/1257 [==============================] - 0s - loss: 2.4935e-04     \n",
      "Epoch 98/200\n",
      "1257/1257 [==============================] - 0s - loss: 2.4852e-04     \n",
      "Epoch 99/200\n",
      "1257/1257 [==============================] - 0s - loss: 2.4825e-04     \n",
      "Epoch 100/200\n",
      "1257/1257 [==============================] - 0s - loss: 2.4890e-04     \n",
      "Epoch 101/200\n",
      "1257/1257 [==============================] - 0s - loss: 2.4924e-04     \n",
      "Epoch 102/200\n",
      "1257/1257 [==============================] - 0s - loss: 2.4946e-04     \n",
      "Epoch 103/200\n",
      "1257/1257 [==============================] - 0s - loss: 2.4851e-04     \n",
      "Epoch 104/200\n",
      "1257/1257 [==============================] - 0s - loss: 2.4890e-04     \n",
      "Epoch 105/200\n",
      "1257/1257 [==============================] - 0s - loss: 2.4638e-04     \n",
      "Epoch 106/200\n",
      "1257/1257 [==============================] - 0s - loss: 2.4980e-04     \n",
      "Epoch 107/200\n",
      "1257/1257 [==============================] - 0s - loss: 2.4820e-04     \n",
      "Epoch 108/200\n",
      "1257/1257 [==============================] - 0s - loss: 2.4687e-04     \n",
      "Epoch 109/200\n",
      "1257/1257 [==============================] - 0s - loss: 2.4971e-04     \n",
      "Epoch 110/200\n",
      "1257/1257 [==============================] - 0s - loss: 2.4845e-04     \n",
      "Epoch 111/200\n",
      "1257/1257 [==============================] - 0s - loss: 2.5065e-04     \n",
      "Epoch 112/200\n",
      "1257/1257 [==============================] - 0s - loss: 2.5067e-04     \n",
      "Epoch 113/200\n",
      "1257/1257 [==============================] - 0s - loss: 2.4981e-04     \n",
      "Epoch 114/200\n",
      "1257/1257 [==============================] - 0s - loss: 2.5213e-04     \n",
      "Epoch 115/200\n",
      "1257/1257 [==============================] - 0s - loss: 2.5386e-04     \n",
      "Epoch 116/200\n",
      "1257/1257 [==============================] - 0s - loss: 2.4987e-04     \n",
      "Epoch 117/200\n",
      "1257/1257 [==============================] - 0s - loss: 2.4736e-04     \n",
      "Epoch 118/200\n",
      "1257/1257 [==============================] - 0s - loss: 2.4895e-04     \n",
      "Epoch 119/200\n",
      "1257/1257 [==============================] - 0s - loss: 2.5178e-04     \n",
      "Epoch 120/200\n",
      "1257/1257 [==============================] - 0s - loss: 2.4884e-04     \n",
      "Epoch 121/200\n",
      "1257/1257 [==============================] - 0s - loss: 2.5397e-04     \n",
      "Epoch 122/200\n",
      "1257/1257 [==============================] - 0s - loss: 2.4616e-04     \n",
      "Epoch 123/200\n",
      "1257/1257 [==============================] - 0s - loss: 2.5139e-04     \n",
      "Epoch 124/200\n",
      "1257/1257 [==============================] - 0s - loss: 2.4866e-04     \n",
      "Epoch 125/200\n",
      "1257/1257 [==============================] - 0s - loss: 2.5188e-04     \n",
      "Epoch 126/200\n",
      "1257/1257 [==============================] - 0s - loss: 2.4819e-04     \n",
      "Epoch 127/200\n",
      "1257/1257 [==============================] - 0s - loss: 2.4690e-04     \n",
      "Epoch 128/200\n",
      "1257/1257 [==============================] - 0s - loss: 2.4931e-04     \n",
      "Epoch 129/200\n",
      "1257/1257 [==============================] - 0s - loss: 2.4923e-04     \n",
      "Epoch 130/200\n",
      "1257/1257 [==============================] - 0s - loss: 2.4786e-04     \n",
      "Epoch 131/200\n",
      "1257/1257 [==============================] - 0s - loss: 2.4606e-04     \n",
      "Epoch 132/200\n",
      "1257/1257 [==============================] - 0s - loss: 2.4816e-04     \n",
      "Epoch 133/200\n",
      "1257/1257 [==============================] - 0s - loss: 2.4632e-04     \n",
      "Epoch 134/200\n",
      "1257/1257 [==============================] - 0s - loss: 2.4719e-04     \n",
      "Epoch 135/200\n",
      "1257/1257 [==============================] - 0s - loss: 2.4766e-04     \n",
      "Epoch 136/200\n",
      "1257/1257 [==============================] - 0s - loss: 2.4609e-04     \n",
      "Epoch 137/200\n",
      "1257/1257 [==============================] - 0s - loss: 2.4714e-04     \n",
      "Epoch 138/200\n",
      "1257/1257 [==============================] - 0s - loss: 2.4694e-04     \n",
      "Epoch 139/200\n",
      "1257/1257 [==============================] - 0s - loss: 2.4676e-04     \n",
      "Epoch 140/200\n",
      "1257/1257 [==============================] - 0s - loss: 2.5290e-04     \n",
      "Epoch 141/200\n",
      "1257/1257 [==============================] - 0s - loss: 2.5609e-04     \n",
      "Epoch 142/200\n",
      "1257/1257 [==============================] - 0s - loss: 2.4928e-04     \n",
      "Epoch 143/200\n",
      "1257/1257 [==============================] - 0s - loss: 2.4838e-04     \n",
      "Epoch 144/200\n",
      "1257/1257 [==============================] - 0s - loss: 2.4771e-04     \n",
      "Epoch 145/200\n",
      "1257/1257 [==============================] - 0s - loss: 2.4781e-04     \n",
      "Epoch 146/200\n",
      "1257/1257 [==============================] - 0s - loss: 2.4858e-04     \n",
      "Epoch 147/200\n",
      "1257/1257 [==============================] - 0s - loss: 2.4898e-04     \n",
      "Epoch 148/200\n",
      "1257/1257 [==============================] - 0s - loss: 2.4750e-04     \n",
      "Epoch 149/200\n",
      "1257/1257 [==============================] - 0s - loss: 2.4819e-04     \n",
      "Epoch 150/200\n",
      "1257/1257 [==============================] - 0s - loss: 2.4698e-04     \n",
      "Epoch 151/200\n",
      "1257/1257 [==============================] - 0s - loss: 2.4749e-04     \n",
      "Epoch 152/200\n",
      "1257/1257 [==============================] - 0s - loss: 2.5146e-04     \n",
      "Epoch 153/200\n",
      "1257/1257 [==============================] - 0s - loss: 2.4761e-04     \n",
      "Epoch 154/200\n",
      "1257/1257 [==============================] - 0s - loss: 2.4962e-04     \n",
      "Epoch 155/200\n",
      "1257/1257 [==============================] - 0s - loss: 2.4947e-04     \n",
      "Epoch 156/200\n",
      "1257/1257 [==============================] - 0s - loss: 2.5116e-04     \n",
      "Epoch 157/200\n",
      "1257/1257 [==============================] - 0s - loss: 2.4722e-04     \n",
      "Epoch 158/200\n",
      "1257/1257 [==============================] - 0s - loss: 2.4780e-04     \n",
      "Epoch 159/200\n",
      "1257/1257 [==============================] - 0s - loss: 2.4929e-04     \n",
      "Epoch 160/200\n",
      "1257/1257 [==============================] - 0s - loss: 2.4696e-04     \n",
      "Epoch 161/200\n",
      "1257/1257 [==============================] - 0s - loss: 2.4640e-04     \n",
      "Epoch 162/200\n",
      "1257/1257 [==============================] - 0s - loss: 2.4513e-04     \n",
      "Epoch 163/200\n",
      "1257/1257 [==============================] - 0s - loss: 2.4655e-04     \n",
      "Epoch 164/200\n",
      "1257/1257 [==============================] - 0s - loss: 2.4719e-04     \n",
      "Epoch 165/200\n",
      "1257/1257 [==============================] - 0s - loss: 2.4541e-04     \n",
      "Epoch 166/200\n",
      "1257/1257 [==============================] - 0s - loss: 2.5058e-04     \n",
      "Epoch 167/200\n",
      "1257/1257 [==============================] - 0s - loss: 2.5151e-04     \n",
      "Epoch 168/200\n",
      "1257/1257 [==============================] - 0s - loss: 2.4640e-04     \n",
      "Epoch 169/200\n",
      "1257/1257 [==============================] - 0s - loss: 2.4844e-04     \n",
      "Epoch 170/200\n",
      "1257/1257 [==============================] - 0s - loss: 2.5063e-04     \n",
      "Epoch 171/200\n",
      "1257/1257 [==============================] - 0s - loss: 2.4844e-04     \n",
      "Epoch 172/200\n",
      "1257/1257 [==============================] - 0s - loss: 2.4490e-04     \n",
      "Epoch 173/200\n",
      "1257/1257 [==============================] - 0s - loss: 2.4653e-04     \n",
      "Epoch 174/200\n",
      "1257/1257 [==============================] - 0s - loss: 2.4833e-04     \n",
      "Epoch 175/200\n",
      "1257/1257 [==============================] - 0s - loss: 2.4793e-04     \n",
      "Epoch 176/200\n",
      "1257/1257 [==============================] - 0s - loss: 2.4641e-04     \n",
      "Epoch 177/200\n",
      "1257/1257 [==============================] - 0s - loss: 2.4789e-04     \n",
      "Epoch 178/200\n",
      "1257/1257 [==============================] - 0s - loss: 2.4802e-04     \n",
      "Epoch 179/200\n",
      "1257/1257 [==============================] - 0s - loss: 2.4719e-04     \n",
      "Epoch 180/200\n",
      "1257/1257 [==============================] - 0s - loss: 2.4718e-04     \n",
      "Epoch 181/200\n",
      "1257/1257 [==============================] - 0s - loss: 2.4819e-04     \n",
      "Epoch 182/200\n",
      "1257/1257 [==============================] - 0s - loss: 2.4759e-04     \n",
      "Epoch 183/200\n",
      "1257/1257 [==============================] - 0s - loss: 2.4661e-04     \n",
      "Epoch 184/200\n",
      "1257/1257 [==============================] - 0s - loss: 2.5257e-04     \n",
      "Epoch 185/200\n",
      "1257/1257 [==============================] - 0s - loss: 2.4681e-04     \n",
      "Epoch 186/200\n",
      "1257/1257 [==============================] - 0s - loss: 2.4540e-04     \n",
      "Epoch 187/200\n",
      "1257/1257 [==============================] - 0s - loss: 2.4983e-04     \n",
      "Epoch 188/200\n",
      "1257/1257 [==============================] - 0s - loss: 2.4529e-04     \n",
      "Epoch 189/200\n",
      "1257/1257 [==============================] - 0s - loss: 2.4632e-04     \n",
      "Epoch 190/200\n",
      "1257/1257 [==============================] - 0s - loss: 2.4566e-04     \n",
      "Epoch 191/200\n"
     ]
    },
    {
     "name": "stdout",
     "output_type": "stream",
     "text": [
      "1257/1257 [==============================] - 0s - loss: 2.5154e-04     \n",
      "Epoch 192/200\n",
      "1257/1257 [==============================] - 0s - loss: 2.4863e-04     \n",
      "Epoch 193/200\n",
      "1257/1257 [==============================] - 0s - loss: 2.4646e-04     \n",
      "Epoch 194/200\n",
      "1257/1257 [==============================] - 0s - loss: 2.4790e-04     \n",
      "Epoch 195/200\n",
      "1257/1257 [==============================] - 0s - loss: 2.4938e-04     \n",
      "Epoch 196/200\n",
      "1257/1257 [==============================] - 0s - loss: 2.5186e-04     \n",
      "Epoch 197/200\n",
      "1257/1257 [==============================] - 0s - loss: 2.5062e-04     \n",
      "Epoch 198/200\n",
      "1257/1257 [==============================] - 0s - loss: 2.4624e-04     \n",
      "Epoch 199/200\n",
      "1257/1257 [==============================] - 0s - loss: 2.4871e-04     \n",
      "Epoch 200/200\n",
      "1257/1257 [==============================] - 0s - loss: 2.4633e-04     \n"
     ]
    },
    {
     "data": {
      "text/plain": [
       "<keras.callbacks.History at 0x152cb5bd1d0>"
      ]
     },
     "execution_count": 41,
     "metadata": {},
     "output_type": "execute_result"
    }
   ],
   "source": [
    "reg.fit(x_train,y_train,batch_size=40,epochs=200)"
   ]
  },
  {
   "cell_type": "code",
   "execution_count": 42,
   "metadata": {
    "collapsed": true
   },
   "outputs": [],
   "source": [
    "test = pd.read_csv('Google_Stock_Price_Test.csv')"
   ]
  },
  {
   "cell_type": "code",
   "execution_count": 43,
   "metadata": {
    "collapsed": true
   },
   "outputs": [],
   "source": [
    "real_price = test.iloc[:,1:2].values"
   ]
  },
  {
   "cell_type": "code",
   "execution_count": 44,
   "metadata": {},
   "outputs": [
    {
     "data": {
      "text/plain": [
       "array([[ 778.81],\n",
       "       [ 788.36],\n",
       "       [ 786.08],\n",
       "       [ 795.26],\n",
       "       [ 806.4 ],\n",
       "       [ 807.86],\n",
       "       [ 805.  ],\n",
       "       [ 807.14],\n",
       "       [ 807.48],\n",
       "       [ 807.08],\n",
       "       [ 805.81],\n",
       "       [ 805.12],\n",
       "       [ 806.91],\n",
       "       [ 807.25],\n",
       "       [ 822.3 ],\n",
       "       [ 829.62],\n",
       "       [ 837.81],\n",
       "       [ 834.71],\n",
       "       [ 814.66],\n",
       "       [ 796.86]])"
      ]
     },
     "execution_count": 44,
     "metadata": {},
     "output_type": "execute_result"
    }
   ],
   "source": [
    "real_price"
   ]
  },
  {
   "cell_type": "code",
   "execution_count": 56,
   "metadata": {
    "collapsed": true
   },
   "outputs": [],
   "source": [
    "inp = real_price\n",
    "inp = sc.transform(inp)"
   ]
  },
  {
   "cell_type": "code",
   "execution_count": 57,
   "metadata": {
    "collapsed": true
   },
   "outputs": [],
   "source": [
    "inp = np.reshape(inp , (20,1,1))"
   ]
  },
  {
   "cell_type": "code",
   "execution_count": 58,
   "metadata": {
    "collapsed": true
   },
   "outputs": [],
   "source": [
    "pred = reg.predict(inp)"
   ]
  },
  {
   "cell_type": "code",
   "execution_count": 59,
   "metadata": {},
   "outputs": [
    {
     "data": {
      "text/plain": [
       "array([[ 0.92690277],\n",
       "       [ 0.94373703],\n",
       "       [ 0.93971992],\n",
       "       [ 0.95588648],\n",
       "       [ 0.97547817],\n",
       "       [ 0.97804356],\n",
       "       [ 0.97301745],\n",
       "       [ 0.97677851],\n",
       "       [ 0.97737598],\n",
       "       [ 0.97667313],\n",
       "       [ 0.97444129],\n",
       "       [ 0.97322845],\n",
       "       [ 0.97637439],\n",
       "       [ 0.97697175],\n",
       "       [ 1.0033915 ],\n",
       "       [ 1.01622319],\n",
       "       [ 1.03056574],\n",
       "       [ 1.02513862],\n",
       "       [ 0.9899863 ],\n",
       "       [ 0.95870221]], dtype=float32)"
      ]
     },
     "execution_count": 59,
     "metadata": {},
     "output_type": "execute_result"
    }
   ],
   "source": [
    "pred"
   ]
  },
  {
   "cell_type": "code",
   "execution_count": 60,
   "metadata": {
    "collapsed": true
   },
   "outputs": [],
   "source": [
    "pred = sc.inverse_transform(pred)"
   ]
  },
  {
   "cell_type": "code",
   "execution_count": 61,
   "metadata": {},
   "outputs": [
    {
     "data": {
      "text/plain": [
       "array([[ 777.38580322],\n",
       "       [ 786.4352417 ],\n",
       "       [ 784.27581787],\n",
       "       [ 792.96630859],\n",
       "       [ 803.49804688],\n",
       "       [ 804.8770752 ],\n",
       "       [ 802.17523193],\n",
       "       [ 804.19702148],\n",
       "       [ 804.51818848],\n",
       "       [ 804.14038086],\n",
       "       [ 802.94061279],\n",
       "       [ 802.28863525],\n",
       "       [ 803.97979736],\n",
       "       [ 804.30090332],\n",
       "       [ 818.50311279],\n",
       "       [ 825.40093994],\n",
       "       [ 833.11090088],\n",
       "       [ 830.19348145],\n",
       "       [ 811.29699707],\n",
       "       [ 794.47991943]], dtype=float32)"
      ]
     },
     "execution_count": 61,
     "metadata": {},
     "output_type": "execute_result"
    }
   ],
   "source": [
    "pred"
   ]
  },
  {
   "cell_type": "code",
   "execution_count": 65,
   "metadata": {},
   "outputs": [
    {
     "data": {
      "image/png": "[encoded data removed]",
      "text/plain": [
       "<matplotlib.figure.Figure at 0x152cc58ec50>"
      ]
     },
     "metadata": {},
     "output_type": "display_data"
    }
   ],
   "source": [
    "plt.plot(real_price,color = 'green',label = 'Actual Price')\n",
    "plt.plot(pred,color = 'blue',label = 'Predicted')\n",
    "plt.xlabel('Price')\n",
    "plt.ylabel('Time')\n",
    "plt.legend()\n",
    "plt.show()"
   ]
  },
  {
   "cell_type": "code",
   "execution_count": 66,
   "metadata": {
    "collapsed": true
   },
   "outputs": [],
   "source": [
    "## Getting real train stock price \n",
    "realtrain = pd.read_csv('Google_Stock_Price_Train.csv')\n",
    "realtrain = realtrain.iloc[:,1:2].values"
   ]
  },
  {
   "cell_type": "code",
   "execution_count": 67,
   "metadata": {
    "collapsed": true
   },
   "outputs": [],
   "source": [
    "predtrain = reg.predict(x_train)"
   ]
  },
  {
   "cell_type": "code",
   "execution_count": 68,
   "metadata": {
    "collapsed": true
   },
   "outputs": [],
   "source": [
    "predtrain = sc.inverse_transform(predtrain)"
   ]
  },
  {
   "cell_type": "code",
   "execution_count": 69,
   "metadata": {},
   "outputs": [
    {
     "data": {
      "text/plain": [
       "array([[ 325.03289795],\n",
       "       [ 330.91400146],\n",
       "       [ 329.50332642],\n",
       "       ..., \n",
       "       [ 788.63183594],\n",
       "       [ 791.49029541],\n",
       "       [ 781.67034912]], dtype=float32)"
      ]
     },
     "execution_count": 69,
     "metadata": {},
     "output_type": "execute_result"
    }
   ],
   "source": [
    "predtrain"
   ]
  },
  {
   "cell_type": "code",
   "execution_count": 74,
   "metadata": {},
   "outputs": [
    {
     "data": {
      "image/png": "[encoded data removed]",
      "text/plain": [
       "<matplotlib.figure.Figure at 0x152cc7f2828>"
      ]
     },
     "metadata": {},
     "output_type": "display_data"
    }
   ],
   "source": [
    "plt.plot(realtrain,color = 'blue',label = 'Actual Price')\n",
    "plt.plot(predtrain,color = 'yellow',label = 'Predicted')\n",
    "plt.xlabel('Price')\n",
    "plt.ylabel('Time')\n",
    "plt.legend()\n",
    "plt.show()"
   ]
  },
  {
   "cell_type": "code",
   "execution_count": null,
   "metadata": {
    "collapsed": true
   },
   "outputs": [],
   "source": []
  }
 ],
 "metadata": {
  "kernelspec": {
   "display_name": "Python 3",
   "language": "python",
   "name": "python3"
  },
  "language_info": {
   "codemirror_mode": {
    "name": "ipython",
    "version": 3
   },
   "file_extension": ".py",
   "mimetype": "text/x-python",
   "name": "python",
   "nbconvert_exporter": "python",
   "pygments_lexer": "ipython3",
   "version": "3.6.1"
  }
 },
 "nbformat": 4,
 "nbformat_minor": 2
}
